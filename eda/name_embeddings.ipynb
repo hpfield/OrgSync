{
 "cells": [
  {
   "cell_type": "code",
   "execution_count": 1,
   "metadata": {},
   "outputs": [],
   "source": [
    "import pandas as pd\n",
    "import matplotlib.pyplot as plt\n",
    "import seaborn as sns\n",
    "import os"
   ]
  },
  {
   "cell_type": "code",
   "execution_count": 2,
   "metadata": {},
   "outputs": [
    {
     "name": "stdout",
     "output_type": "stream",
     "text": [
      "<class 'pandas.core.frame.DataFrame'>\n",
      "RangeIndex: 451528 entries, 0 to 451527\n",
      "Data columns (total 35 columns):\n",
      " #   Column              Non-Null Count   Dtype  \n",
      "---  ------              --------------   -----  \n",
      " 0   SME                 382461 non-null  object \n",
      " 1   active              382461 non-null  object \n",
      " 2   activityType        382461 non-null  object \n",
      " 3   city                382461 non-null  object \n",
      " 4   contactForm         382461 non-null  object \n",
      " 5   contentUpdateDate   382461 non-null  object \n",
      " 6   country             382461 non-null  object \n",
      " 7   ecContribution      382461 non-null  object \n",
      " 8   endOfParticipation  382461 non-null  object \n",
      " 9   geolocation         382461 non-null  object \n",
      " 10  name                451528 non-null  object \n",
      " 11  netEcContribution   382461 non-null  object \n",
      " 12  nutsCode            382461 non-null  object \n",
      " 13  order               382461 non-null  float64\n",
      " 14  organisationID      382461 non-null  object \n",
      " 15  organizationURL     382461 non-null  object \n",
      " 16  postCode            382460 non-null  object \n",
      " 17  projectAcronym      382461 non-null  object \n",
      " 18  projectID           382461 non-null  float64\n",
      " 19  rcn                 382461 non-null  object \n",
      " 20  role                382461 non-null  object \n",
      " 21  shortName           382461 non-null  object \n",
      " 22  street              382461 non-null  object \n",
      " 23  totalCost           382461 non-null  object \n",
      " 24  vatNumber           382461 non-null  object \n",
      " 25  links               69067 non-null   object \n",
      " 26  ext                 0 non-null       float64\n",
      " 27  id                  69067 non-null   object \n",
      " 28  outcomeid           0 non-null       float64\n",
      " 29  href                69067 non-null   object \n",
      " 30  created             69067 non-null   float64\n",
      " 31  updated             0 non-null       float64\n",
      " 32  regNumber           0 non-null       float64\n",
      " 33  website             0 non-null       float64\n",
      " 34  addresses           69067 non-null   object \n",
      "dtypes: float64(8), object(27)\n",
      "memory usage: 120.6+ MB\n",
      "None\n"
     ]
    }
   ],
   "source": [
    "# Define the project root as the directory containing the notebook, or adjust as needed\n",
    "PROJECT_ROOT = os.path.abspath(os.path.join(os.getcwd(), '..'))\n",
    "\n",
    "# Define the path to the JSON file relative to the project root\n",
    "json_file_path = os.path.join(PROJECT_ROOT, 'data', 'raw', 'combined_organizations.json')\n",
    "\n",
    "# Load the JSON file into a pandas DataFrame\n",
    "def load_json_as_dataframe(file_path):\n",
    "    return pd.read_json(file_path, orient='records')\n",
    "\n",
    "# Load the combined_organizations.json file\n",
    "combined_organizations = load_json_as_dataframe(json_file_path)\n",
    "\n",
    "# Now, combined_organizations_df contains the loaded data in a pandas DataFrame\n",
    "print(combined_organizations.info())  # This will give you an overview of the data"
   ]
  },
  {
   "cell_type": "code",
   "execution_count": 6,
   "metadata": {},
   "outputs": [
    {
     "name": "stdout",
     "output_type": "stream",
     "text": [
      "Number of unique organizations in the UK: 5422\n"
     ]
    }
   ],
   "source": [
    "# Filter for UK organizations and extract unique organization names\n",
    "unique_uk_organizations = combined_organizations[combined_organizations['country'] == 'UK']['name'].unique()\n",
    "\n",
    "# Check the number of unique organization names\n",
    "print(f\"Number of unique organizations in the UK: {len(unique_uk_organizations)}\")\n"
   ]
  },
  {
   "cell_type": "code",
   "execution_count": 7,
   "metadata": {},
   "outputs": [
    {
     "name": "stderr",
     "output_type": "stream",
     "text": [
      "/home/rz20505/miniforge3/envs/orgsync/lib/python3.11/site-packages/transformers/tokenization_utils_base.py:1601: FutureWarning: `clean_up_tokenization_spaces` was not set. It will be set to `True` by default. This behavior will be depracted in transformers v4.45, and will be then set to `False` by default. For more details check this issue: https://github.com/huggingface/transformers/issues/31884\n",
      "  warnings.warn(\n",
      "Generating embeddings:   8%|▊         | 443/5422 [00:31<10:38,  7.79org/s]"
     ]
    }
   ],
   "source": [
    "import numpy as np\n",
    "from tqdm import tqdm\n",
    "from sentence_transformers import SentenceTransformer\n",
    "\n",
    "# Initialize the model\n",
    "model = SentenceTransformer('paraphrase-MiniLM-L6-v2')\n",
    "\n",
    "# Function to create and save embeddings for unique organization names\n",
    "def create_and_save_embeddings(names, model, output_file='uk_unique_org_embeddings.npy'):\n",
    "    tqdm.pandas(desc=\"Generating embeddings\")  # Enable progress bar with description\n",
    "    # Generate embeddings with progress bar and save them\n",
    "    embeddings = [model.encode(str(name)) for name in tqdm(names, desc=\"Generating embeddings\", unit=\"org\")]\n",
    "    embeddings = np.array(embeddings)\n",
    "    np.save(output_file, embeddings)  # Save embeddings to a file\n",
    "    return embeddings\n",
    "\n",
    "# Generate and save embeddings for unique UK organization names\n",
    "uk_unique_org_embeddings = create_and_save_embeddings(unique_uk_organizations, model, 'uk_unique_org_embeddings.npy')\n",
    "\n",
    "# Check the first few embeddings\n",
    "print(uk_unique_org_embeddings[:5])\n"
   ]
  },
  {
   "cell_type": "code",
   "execution_count": null,
   "metadata": {},
   "outputs": [],
   "source": [
    "# # Load previously saved embeddings\n",
    "# uk_unique_org_embeddings = np.load('uk_unique_org_embeddings.npy')\n",
    "\n",
    "# # Ensure that the embeddings are correctly loaded\n",
    "# print(f\"Loaded embeddings shape: {uk_unique_org_embeddings.shape}\")\n",
    "# print(uk_unique_org_embeddings[:5])\n"
   ]
  }
 ],
 "metadata": {
  "kernelspec": {
   "display_name": "orgsync",
   "language": "python",
   "name": "python3"
  },
  "language_info": {
   "codemirror_mode": {
    "name": "ipython",
    "version": 3
   },
   "file_extension": ".py",
   "mimetype": "text/x-python",
   "name": "python",
   "nbconvert_exporter": "python",
   "pygments_lexer": "ipython3",
   "version": "3.11.9"
  }
 },
 "nbformat": 4,
 "nbformat_minor": 2
}
