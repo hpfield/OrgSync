{
 "cells": [
  {
   "cell_type": "markdown",
   "metadata": {},
   "source": [
    "### .gov.uk API Catalogue\n",
    "**[Companies House](https://www.api.gov.uk/ch/companies-house/#companies-house)**\n",
    "\n",
    "The Companies House API provides access to all of the public data we hold on companies free of charge. This includes information about companies, officers, people of significant control and more.\n",
    "* [Docs](https://developer.company-information.service.gov.uk/)\n",
    "* Endpoint: `https://api.companieshouse.gov.uk/`\n",
    "\n",
    "**Organisations**\n",
    "\n",
    "https://www.gov.uk/government/organisations\n",
    "\n",
    "Endpoint: ???\n",
    "\n",
    "\n",
    "\n",
    "### GRID (Global Research Identifier Database)\n",
    "\n",
    "### Rapid\n",
    "https://rapidapi.com/collection/company-information-apis\n",
    "\n",
    "### Find that charity reconsiliation API\n",
    "https://github.com/kanedata/find-that-charity\n",
    "\n",
    "\n",
    "# InterZoid\n",
    "* https://www.interzoid.com/cloud-api-directory\n",
    "* Paid, but cheaper than OpenCorporates\n",
    "* Data matching API"
   ]
  },
  {
   "cell_type": "markdown",
   "metadata": {},
   "source": [
    "### OpenCorporates API\n",
    "* [pypi](https://pypi.org/project/opyncorporates/)\n",
    "* `pip install opyncorporates`\n",
    "* [Docs](https://opyncorporates.readthedocs.io/en/latest/)\n",
    "* [github](https://github.com/pjryan126/opyncorporates)\n",
    "\n",
    "Note: Paid normally, but could request free access for research purposes [here](https://opencorporates.com/plug-in-our-data/).\n",
    "\n",
    "[Application Form](https://opencorporates.atlassian.net/servicedesk/customer/portal/4/group/16/create/36)\n",
    "\n",
    "```python\n",
    "from opyncorporates import create_engine\n",
    "engine = create_engine(api_version='0.4')\n",
    "search = engine.search('companies', 'search', q='facebook')\n",
    "pprint(search.get_page(1))\n",
    "```"
   ]
  },
  {
   "cell_type": "code",
   "execution_count": 12,
   "metadata": {},
   "outputs": [],
   "source": [
    "import os, sys, json\n",
    "import numpy as np\n",
    "import pandas as pd\n",
    "import re\n",
    "from pprint import pprint\n"
   ]
  },
  {
   "cell_type": "code",
   "execution_count": 16,
   "metadata": {},
   "outputs": [],
   "source": []
  },
  {
   "cell_type": "code",
   "execution_count": 17,
   "metadata": {},
   "outputs": [
    {
     "name": "stdout",
     "output_type": "stream",
     "text": [
      "None\n"
     ]
    }
   ],
   "source": []
  }
 ],
 "metadata": {
  "kernelspec": {
   "display_name": "dan-env",
   "language": "python",
   "name": "python3"
  },
  "language_info": {
   "codemirror_mode": {
    "name": "ipython",
    "version": 3
   },
   "file_extension": ".py",
   "mimetype": "text/x-python",
   "name": "python",
   "nbconvert_exporter": "python",
   "pygments_lexer": "ipython3",
   "version": "3.10.14"
  }
 },
 "nbformat": 4,
 "nbformat_minor": 2
}
