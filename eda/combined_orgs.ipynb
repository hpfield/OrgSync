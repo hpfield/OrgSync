{
 "cells": [
  {
   "cell_type": "code",
   "execution_count": 1,
   "metadata": {},
   "outputs": [
    {
     "name": "stdout",
     "output_type": "stream",
     "text": [
      "<class 'pandas.core.frame.DataFrame'>\n",
      "RangeIndex: 451528 entries, 0 to 451527\n",
      "Data columns (total 35 columns):\n",
      " #   Column              Non-Null Count   Dtype  \n",
      "---  ------              --------------   -----  \n",
      " 0   SME                 382461 non-null  object \n",
      " 1   active              382461 non-null  object \n",
      " 2   activityType        382461 non-null  object \n",
      " 3   city                382461 non-null  object \n",
      " 4   contactForm         382461 non-null  object \n",
      " 5   contentUpdateDate   382461 non-null  object \n",
      " 6   country             382461 non-null  object \n",
      " 7   ecContribution      382461 non-null  object \n",
      " 8   endOfParticipation  382461 non-null  object \n",
      " 9   geolocation         382461 non-null  object \n",
      " 10  name                451528 non-null  object \n",
      " 11  netEcContribution   382461 non-null  object \n",
      " 12  nutsCode            382461 non-null  object \n",
      " 13  order               382461 non-null  float64\n",
      " 14  organisationID      382461 non-null  object \n",
      " 15  organizationURL     382461 non-null  object \n",
      " 16  postCode            382460 non-null  object \n",
      " 17  projectAcronym      382461 non-null  object \n",
      " 18  projectID           382461 non-null  float64\n",
      " 19  rcn                 382461 non-null  object \n",
      " 20  role                382461 non-null  object \n",
      " 21  shortName           382461 non-null  object \n",
      " 22  street              382461 non-null  object \n",
      " 23  totalCost           382461 non-null  object \n",
      " 24  vatNumber           382461 non-null  object \n",
      " 25  links               69067 non-null   object \n",
      " 26  ext                 0 non-null       float64\n",
      " 27  id                  69067 non-null   object \n",
      " 28  outcomeid           0 non-null       float64\n",
      " 29  href                69067 non-null   object \n",
      " 30  created             69067 non-null   float64\n",
      " 31  updated             0 non-null       float64\n",
      " 32  regNumber           0 non-null       float64\n",
      " 33  website             0 non-null       float64\n",
      " 34  addresses           69067 non-null   object \n",
      "dtypes: float64(8), object(27)\n",
      "memory usage: 120.6+ MB\n",
      "None\n"
     ]
    }
   ],
   "source": [
    "import os\n",
    "import pandas as pd\n",
    "import numpy as np\n",
    "import re\n",
    "# Define the project root as the directory containing the notebook, or adjust as needed\n",
    "PROJECT_ROOT = os.path.abspath(os.path.join(os.getcwd(), '..'))\n",
    "\n",
    "# Define the path to the JSON file relative to the project root\n",
    "json_file_path = os.path.join(PROJECT_ROOT, 'data', 'raw', 'combined_organizations.json')\n",
    "\n",
    "# Load the JSON file into a pandas DataFrame\n",
    "def load_json_as_dataframe(file_path):\n",
    "    return pd.read_json(file_path, orient='records')\n",
    "\n",
    "# Load the combined_organizations.json file\n",
    "combined_organizations = load_json_as_dataframe(json_file_path)\n",
    "\n",
    "# Now, combined_organizations_df contains the loaded data in a pandas DataFrame\n",
    "print(combined_organizations.info())  # This will give you an overview of the data\n"
   ]
  },
  {
   "cell_type": "code",
   "execution_count": 2,
   "metadata": {},
   "outputs": [
    {
     "name": "stdout",
     "output_type": "stream",
     "text": [
      "Number of null 'country' fields: 69067\n"
     ]
    }
   ],
   "source": [
    "# Check how many 'country' fields are null\n",
    "null_country_count = combined_organizations['country'].isnull().sum()\n",
    "print(f\"Number of null 'country' fields: {null_country_count}\")\n"
   ]
  },
  {
   "cell_type": "code",
   "execution_count": null,
   "metadata": {},
   "outputs": [],
   "source": []
  }
 ],
 "metadata": {
  "kernelspec": {
   "display_name": "orgsync",
   "language": "python",
   "name": "python3"
  },
  "language_info": {
   "codemirror_mode": {
    "name": "ipython",
    "version": 3
   },
   "file_extension": ".py",
   "mimetype": "text/x-python",
   "name": "python",
   "nbconvert_exporter": "python",
   "pygments_lexer": "ipython3",
   "version": "3.11.9"
  }
 },
 "nbformat": 4,
 "nbformat_minor": 2
}
