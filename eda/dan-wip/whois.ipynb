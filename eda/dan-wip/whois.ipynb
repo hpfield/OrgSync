{
 "cells": [
  {
   "cell_type": "code",
   "execution_count": null,
   "metadata": {},
   "outputs": [],
   "source": [
    "# !pip install python-whois # (https://github.com/richardpenman/whois)\n",
    "\n",
    "# Note: This lib has options for creating classes to parse specific types of domains in a \n",
    "# particular way. E.g. .edu.uk, .ac.uk, .gov etc. \n",
    "\n",
    "# Can also try different APIs"
   ]
  },
  {
   "cell_type": "code",
   "execution_count": 10,
   "metadata": {},
   "outputs": [],
   "source": [
    "import whois\n",
    "from datetime import datetime\n",
    "from pprint import pprint"
   ]
  },
  {
   "cell_type": "code",
   "execution_count": 23,
   "metadata": {},
   "outputs": [
    {
     "data": {
      "text/plain": [
       "datetime.datetime(2022, 8, 13, 4, 0)"
      ]
     },
     "execution_count": 23,
     "metadata": {},
     "output_type": "execute_result"
    }
   ],
   "source": [
    "\n",
    "w = whois.whois('https://www.samsung.com/uk/')\n",
    "w.experiation_date\n",
    "datetime(2022, 8, 13, 4, 0)\n",
    "\n",
    "# parser = whois.parser.WhoisEntryListParser()\n"
   ]
  },
  {
   "cell_type": "code",
   "execution_count": 26,
   "metadata": {},
   "outputs": [
    {
     "name": "stdout",
     "output_type": "stream",
     "text": [
      "('   Domain Name: SAMSUNG.COM\\r\\n'\n",
      " '   Registry Domain ID: 1521529_DOMAIN_COM-VRSN\\r\\n'\n",
      " '   Registrar WHOIS Server: whois.whois.co.kr\\r\\n'\n",
      " '   Registrar URL: http://www.whois.co.kr\\r\\n'\n",
      " '   Updated Date: 2021-06-12T09:11:34Z\\r\\n'\n",
      " '   Creation Date: 1994-11-29T05:00:00Z\\r\\n'\n",
      " '   Registry Expiry Date: 2025-11-28T05:00:00Z\\r\\n'\n",
      " '   Registrar: Whois Corp.\\r\\n'\n",
      " '   Registrar IANA ID: 100\\r\\n'\n",
      " '   Registrar Abuse Contact Email: abuse@whois.co.kr\\r\\n'\n",
      " '   Registrar Abuse Contact Phone: +82.15884259\\r\\n'\n",
      " '   Domain Status: clientTransferProhibited '\n",
      " 'https://icann.org/epp#clientTransferProhibited\\r\\n'\n",
      " '   Domain Status: clientUpdateProhibited '\n",
      " 'https://icann.org/epp#clientUpdateProhibited\\r\\n'\n",
      " '   Name Server: DNS-AWSKR1.SAMSUNG.COM\\r\\n'\n",
      " '   Name Server: DNS-GI1.SAMSUNG.COM\\r\\n'\n",
      " '   Name Server: DNSSM.SAMSUNG.COM\\r\\n'\n",
      " '   Name Server: DNSSM2.SAMSUNG.COM\\r\\n'\n",
      " '   Name Server: DNSST.SAMSUNG.COM\\r\\n'\n",
      " '   Name Server: DNSST2.SAMSUNG.COM\\r\\n'\n",
      " '   DNSSEC: unsigned\\r\\n'\n",
      " '   URL of the ICANN Whois Inaccuracy Complaint Form: '\n",
      " 'https://www.icann.org/wicf/\\r\\n'\n",
      " '>>> Last update of whois database: 2024-11-18T12:34:40Z <<<\\r\\n'\n",
      " '\\r\\n'\n",
      " 'For more information on Whois status codes, please visit '\n",
      " 'https://icann.org/epp\\r\\n'\n",
      " '\\r\\n'\n",
      " 'NOTICE: The expiration date displayed in this record is the date the\\r\\n'\n",
      " \"registrar's sponsorship of the domain name registration in the registry \"\n",
      " 'is\\r\\n'\n",
      " 'currently set to expire. This date does not necessarily reflect the '\n",
      " 'expiration\\r\\n'\n",
      " \"date of the domain name registrant's agreement with the sponsoring\\r\\n\"\n",
      " \"registrar.  Users may consult the sponsoring registrar's Whois database \"\n",
      " 'to\\r\\n'\n",
      " \"view the registrar's reported date of expiration for this registration.\\r\\n\"\n",
      " '\\r\\n'\n",
      " 'TERMS OF USE: You are not authorized to access or query our Whois\\r\\n'\n",
      " 'database through the use of electronic processes that are high-volume and\\r\\n'\n",
      " 'automated except as reasonably necessary to register domain names or\\r\\n'\n",
      " 'modify existing registrations; the Data in VeriSign Global Registry\\r\\n'\n",
      " 'Services\\' (\"VeriSign\") Whois database is provided by VeriSign for\\r\\n'\n",
      " 'information purposes only, and to assist persons in obtaining information\\r\\n'\n",
      " 'about or related to a domain name registration record. VeriSign does not\\r\\n'\n",
      " 'guarantee its accuracy. By submitting a Whois query, you agree to abide\\r\\n'\n",
      " 'by the following terms of use: You agree that you may use this Data only\\r\\n'\n",
      " 'for lawful purposes and that under no circumstances will you use this '\n",
      " 'Data\\r\\n'\n",
      " 'to: (1) allow, enable, or otherwise support the transmission of mass\\r\\n'\n",
      " 'unsolicited, commercial advertising or solicitations via e-mail, '\n",
      " 'telephone,\\r\\n'\n",
      " 'or facsimile; or (2) enable high volume, automated, electronic processes\\r\\n'\n",
      " 'that apply to VeriSign (or its computer systems). The compilation,\\r\\n'\n",
      " 'repackaging, dissemination or other use of this Data is expressly\\r\\n'\n",
      " 'prohibited without the prior written consent of VeriSign. You agree not '\n",
      " 'to\\r\\n'\n",
      " 'use electronic processes that are automated and high-volume to access or\\r\\n'\n",
      " 'query the Whois database except as reasonably necessary to register\\r\\n'\n",
      " 'domain names or modify existing registrations. VeriSign reserves the '\n",
      " 'right\\r\\n'\n",
      " 'to restrict your access to the Whois database in its sole discretion to '\n",
      " 'ensure\\r\\n'\n",
      " 'operational stability.  VeriSign may restrict or terminate your access to '\n",
      " 'the\\r\\n'\n",
      " 'Whois database for failure to abide by these terms of use. VeriSign\\r\\n'\n",
      " 'reserves the right to modify these terms at any time.\\r\\n'\n",
      " '\\r\\n'\n",
      " 'The Registry database contains ONLY .COM, .NET, .EDU domains and\\r\\n'\n",
      " 'Registrars.\\r\\n'\n",
      " 'Socket not responding: [WinError 10054] An existing connection was forcibly '\n",
      " 'closed by the remote host')\n"
     ]
    }
   ],
   "source": [
    "pprint(w.text)"
   ]
  },
  {
   "cell_type": "code",
   "execution_count": 24,
   "metadata": {},
   "outputs": [
    {
     "name": "stdout",
     "output_type": "stream",
     "text": [
      "{'address': None,\n",
      " 'city': None,\n",
      " 'country': None,\n",
      " 'creation_date': datetime.datetime(1994, 11, 29, 5, 0),\n",
      " 'dnssec': 'unsigned',\n",
      " 'domain_name': 'SAMSUNG.COM',\n",
      " 'emails': 'abuse@whois.co.kr',\n",
      " 'expiration_date': datetime.datetime(2025, 11, 28, 5, 0),\n",
      " 'name': None,\n",
      " 'name_servers': ['DNS-AWSKR1.SAMSUNG.COM',\n",
      "                  'DNS-GI1.SAMSUNG.COM',\n",
      "                  'DNSSM.SAMSUNG.COM',\n",
      "                  'DNSSM2.SAMSUNG.COM',\n",
      "                  'DNSST.SAMSUNG.COM',\n",
      "                  'DNSST2.SAMSUNG.COM'],\n",
      " 'org': None,\n",
      " 'referral_url': None,\n",
      " 'registrant_postal_code': None,\n",
      " 'registrar': 'Whois Corp.',\n",
      " 'registrar_url': 'http://www.whois.co.kr',\n",
      " 'reseller': None,\n",
      " 'state': None,\n",
      " 'status': ['clientTransferProhibited '\n",
      "            'https://icann.org/epp#clientTransferProhibited',\n",
      "            'clientUpdateProhibited '\n",
      "            'https://icann.org/epp#clientUpdateProhibited'],\n",
      " 'updated_date': datetime.datetime(2021, 6, 12, 9, 11, 34),\n",
      " 'whois_server': 'whois.whois.co.kr'}\n"
     ]
    }
   ],
   "source": [
    "pprint(w)"
   ]
  }
 ],
 "metadata": {
  "kernelspec": {
   "display_name": "dan-env",
   "language": "python",
   "name": "python3"
  },
  "language_info": {
   "codemirror_mode": {
    "name": "ipython",
    "version": 3
   },
   "file_extension": ".py",
   "mimetype": "text/x-python",
   "name": "python",
   "nbconvert_exporter": "python",
   "pygments_lexer": "ipython3",
   "version": "3.10.14"
  }
 },
 "nbformat": 4,
 "nbformat_minor": 2
}
