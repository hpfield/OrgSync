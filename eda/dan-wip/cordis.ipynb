{
 "cells": [
  {
   "cell_type": "code",
   "execution_count": null,
   "metadata": {},
   "outputs": [],
   "source": [
    "def move_working_dir_to_repo_root(repo_name=\"orgsync\"):\n",
    "    \"\"\"\n",
    "    Move the current working directory to the root of the repository.\n",
    "    \"\"\"\n",
    "    current_dir = os.getcwd()\n",
    "    while os.path.basename(current_dir).lower() != repo_name:\n",
    "        current_dir = os.path.dirname(current_dir)\n",
    "    os.chdir(current_dir)\n",
    "    print(\"Current working directory: \", os.getcwd())\n",
    "\n",
    "move_working_dir_to_repo_root(repo_name=\"orgsync\")\n"
   ]
  },
  {
   "cell_type": "markdown",
   "metadata": {},
   "source": [
    "# Notes\n",
    "* Many of the cordis entries have a url, allowing simple name lookup. \n",
    "* Are there any person names?\n",
    "  * If not, are their links to papers we can scrape author names for?"
   ]
  }
 ],
 "metadata": {
  "kernelspec": {
   "display_name": "dan-env",
   "language": "python",
   "name": "python3"
  },
  "language_info": {
   "name": "python",
   "version": "3.10.14"
  }
 },
 "nbformat": 4,
 "nbformat_minor": 2
}
