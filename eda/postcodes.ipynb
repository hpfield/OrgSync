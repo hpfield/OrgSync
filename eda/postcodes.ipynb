{
 "cells": [
  {
   "cell_type": "code",
   "execution_count": 10,
   "metadata": {},
   "outputs": [],
   "source": [
    "import os, sys, json\n",
    "import numpy as np\n",
    "import pandas as pd\n",
    "import re\n"
   ]
  },
  {
   "cell_type": "code",
   "execution_count": 11,
   "metadata": {},
   "outputs": [
    {
     "name": "stdout",
     "output_type": "stream",
     "text": [
      "Current working directory:  c:\\Users\\dec2g\\GitHub\\OrgSync\n"
     ]
    }
   ],
   "source": [
    "def move_working_dir_to_repo_root(repo_name=\"orgsync\"):\n",
    "    current_dir = os.getcwd()\n",
    "    #conver to lowercase\n",
    "    while os.path.basename(current_dir).lower() != repo_name:\n",
    "        current_dir = os.path.dirname(current_dir)\n",
    "    os.chdir(current_dir)\n",
    "    print(\"Current working directory: \", os.getcwd())\n",
    "\n",
    "move_working_dir_to_repo_root(repo_name=\"orgsync\")"
   ]
  },
  {
   "cell_type": "code",
   "execution_count": 12,
   "metadata": {},
   "outputs": [],
   "source": [
    "cordis = \"data/geolocations/cordis_organizations.csv\"\n",
    "gtr = \"data/geolocations/gtr_organizations.csv\"\n",
    "\n",
    "df_cordis = pd.read_csv(cordis)\n",
    "df_gtr = pd.read_csv(gtr)"
   ]
  },
  {
   "cell_type": "code",
   "execution_count": 13,
   "metadata": {},
   "outputs": [
    {
     "data": {
      "text/html": [
       "<div>\n",
       "<style scoped>\n",
       "    .dataframe tbody tr th:only-of-type {\n",
       "        vertical-align: middle;\n",
       "    }\n",
       "\n",
       "    .dataframe tbody tr th {\n",
       "        vertical-align: top;\n",
       "    }\n",
       "\n",
       "    .dataframe thead th {\n",
       "        text-align: right;\n",
       "    }\n",
       "</style>\n",
       "<table border=\"1\" class=\"dataframe\">\n",
       "  <thead>\n",
       "    <tr style=\"text-align: right;\">\n",
       "      <th></th>\n",
       "      <th>dataset</th>\n",
       "      <th>id</th>\n",
       "      <th>name</th>\n",
       "      <th>short_name</th>\n",
       "      <th>postcode</th>\n",
       "      <th>city</th>\n",
       "    </tr>\n",
       "  </thead>\n",
       "  <tbody>\n",
       "    <tr>\n",
       "      <th>0</th>\n",
       "      <td>cordis</td>\n",
       "      <td>323260</td>\n",
       "      <td>NUCLEAR DECOMMISSIONING AUTHORITY - NDA</td>\n",
       "      <td>NDA</td>\n",
       "      <td>CA24 3HU</td>\n",
       "      <td>MOOR ROW</td>\n",
       "    </tr>\n",
       "    <tr>\n",
       "      <th>1</th>\n",
       "      <td>cordis</td>\n",
       "      <td>219438</td>\n",
       "      <td>SOUTH WEST TOURISM LIMITED</td>\n",
       "      <td>South West Tourism</td>\n",
       "      <td>EX2 5WT</td>\n",
       "      <td>EXETER</td>\n",
       "    </tr>\n",
       "    <tr>\n",
       "      <th>2</th>\n",
       "      <td>cordis</td>\n",
       "      <td>219438</td>\n",
       "      <td>WELSH GOVERNMENT</td>\n",
       "      <td>Welsh Government</td>\n",
       "      <td>CF10 3NQ</td>\n",
       "      <td>Cardiff</td>\n",
       "    </tr>\n",
       "    <tr>\n",
       "      <th>3</th>\n",
       "      <td>cordis</td>\n",
       "      <td>226103</td>\n",
       "      <td>TERRASALUS LIMITED</td>\n",
       "      <td>TerraSalus</td>\n",
       "      <td>LE15 9EL</td>\n",
       "      <td>OAKHAM</td>\n",
       "    </tr>\n",
       "    <tr>\n",
       "      <th>4</th>\n",
       "      <td>cordis</td>\n",
       "      <td>282558</td>\n",
       "      <td>Ol PHARMA PARTNERS LTD</td>\n",
       "      <td>Pharmivation</td>\n",
       "      <td>SG4 7DP</td>\n",
       "      <td>WESTON HERTS</td>\n",
       "    </tr>\n",
       "  </tbody>\n",
       "</table>\n",
       "</div>"
      ],
      "text/plain": [
       "  dataset      id                                     name  \\\n",
       "0  cordis  323260  NUCLEAR DECOMMISSIONING AUTHORITY - NDA   \n",
       "1  cordis  219438               SOUTH WEST TOURISM LIMITED   \n",
       "2  cordis  219438                         WELSH GOVERNMENT   \n",
       "3  cordis  226103                       TERRASALUS LIMITED   \n",
       "4  cordis  282558                   Ol PHARMA PARTNERS LTD   \n",
       "\n",
       "           short_name  postcode          city  \n",
       "0                 NDA  CA24 3HU      MOOR ROW  \n",
       "1  South West Tourism   EX2 5WT        EXETER  \n",
       "2    Welsh Government  CF10 3NQ       Cardiff  \n",
       "3          TerraSalus  LE15 9EL        OAKHAM  \n",
       "4        Pharmivation   SG4 7DP  WESTON HERTS  "
      ]
     },
     "execution_count": 13,
     "metadata": {},
     "output_type": "execute_result"
    }
   ],
   "source": [
    "df_cordis.head()"
   ]
  },
  {
   "cell_type": "code",
   "execution_count": 14,
   "metadata": {},
   "outputs": [
    {
     "data": {
      "text/html": [
       "<div>\n",
       "<style scoped>\n",
       "    .dataframe tbody tr th:only-of-type {\n",
       "        vertical-align: middle;\n",
       "    }\n",
       "\n",
       "    .dataframe tbody tr th {\n",
       "        vertical-align: top;\n",
       "    }\n",
       "\n",
       "    .dataframe thead th {\n",
       "        text-align: right;\n",
       "    }\n",
       "</style>\n",
       "<table border=\"1\" class=\"dataframe\">\n",
       "  <thead>\n",
       "    <tr style=\"text-align: right;\">\n",
       "      <th></th>\n",
       "      <th>dataset</th>\n",
       "      <th>id</th>\n",
       "      <th>name</th>\n",
       "      <th>postcode</th>\n",
       "    </tr>\n",
       "  </thead>\n",
       "  <tbody>\n",
       "    <tr>\n",
       "      <th>0</th>\n",
       "      <td>gtr</td>\n",
       "      <td>5331B126-3AB4-4412-B56D-00E8F2796556</td>\n",
       "      <td>NEWCASTLE CITY COUNCIL</td>\n",
       "      <td>NE1 8QH</td>\n",
       "    </tr>\n",
       "    <tr>\n",
       "      <th>1</th>\n",
       "      <td>gtr</td>\n",
       "      <td>53331120-0290-49FA-A513-0286A214AF7A</td>\n",
       "      <td>VALERANN UK LIMITED</td>\n",
       "      <td>MK14 6GD</td>\n",
       "    </tr>\n",
       "    <tr>\n",
       "      <th>2</th>\n",
       "      <td>gtr</td>\n",
       "      <td>77874202-2018-4677-8CFF-0868CD838659</td>\n",
       "      <td>Baltic Sea Cultural Centre in Gdansk</td>\n",
       "      <td>NaN</td>\n",
       "    </tr>\n",
       "    <tr>\n",
       "      <th>3</th>\n",
       "      <td>gtr</td>\n",
       "      <td>77908BF8-1B2D-4D26-9119-155100E8B9C5</td>\n",
       "      <td>Mindray</td>\n",
       "      <td>PE29 6FN</td>\n",
       "    </tr>\n",
       "    <tr>\n",
       "      <th>4</th>\n",
       "      <td>gtr</td>\n",
       "      <td>7794C645-9CC7-4913-A8DC-103AE0EFDD4B</td>\n",
       "      <td>Democracy International</td>\n",
       "      <td>20814</td>\n",
       "    </tr>\n",
       "  </tbody>\n",
       "</table>\n",
       "</div>"
      ],
      "text/plain": [
       "  dataset                                    id  \\\n",
       "0     gtr  5331B126-3AB4-4412-B56D-00E8F2796556   \n",
       "1     gtr  53331120-0290-49FA-A513-0286A214AF7A   \n",
       "2     gtr  77874202-2018-4677-8CFF-0868CD838659   \n",
       "3     gtr  77908BF8-1B2D-4D26-9119-155100E8B9C5   \n",
       "4     gtr  7794C645-9CC7-4913-A8DC-103AE0EFDD4B   \n",
       "\n",
       "                                   name  postcode  \n",
       "0                NEWCASTLE CITY COUNCIL   NE1 8QH  \n",
       "1                   VALERANN UK LIMITED  MK14 6GD  \n",
       "2  Baltic Sea Cultural Centre in Gdansk       NaN  \n",
       "3                               Mindray  PE29 6FN  \n",
       "4               Democracy International     20814  "
      ]
     },
     "execution_count": 14,
     "metadata": {},
     "output_type": "execute_result"
    }
   ],
   "source": [
    "df_gtr.head()"
   ]
  },
  {
   "cell_type": "code",
   "execution_count": 15,
   "metadata": {},
   "outputs": [
    {
     "data": {
      "text/html": [
       "<div>\n",
       "<style scoped>\n",
       "    .dataframe tbody tr th:only-of-type {\n",
       "        vertical-align: middle;\n",
       "    }\n",
       "\n",
       "    .dataframe tbody tr th {\n",
       "        vertical-align: top;\n",
       "    }\n",
       "\n",
       "    .dataframe thead th {\n",
       "        text-align: right;\n",
       "    }\n",
       "</style>\n",
       "<table border=\"1\" class=\"dataframe\">\n",
       "  <thead>\n",
       "    <tr style=\"text-align: right;\">\n",
       "      <th></th>\n",
       "      <th>dataset</th>\n",
       "      <th>id</th>\n",
       "      <th>name</th>\n",
       "      <th>short_name</th>\n",
       "      <th>postcode</th>\n",
       "      <th>city</th>\n",
       "    </tr>\n",
       "  </thead>\n",
       "  <tbody>\n",
       "    <tr>\n",
       "      <th>0</th>\n",
       "      <td>cordis</td>\n",
       "      <td>323260</td>\n",
       "      <td>NUCLEAR DECOMMISSIONING AUTHORITY - NDA</td>\n",
       "      <td>NDA</td>\n",
       "      <td>CA24 3HU</td>\n",
       "      <td>MOOR ROW</td>\n",
       "    </tr>\n",
       "    <tr>\n",
       "      <th>1</th>\n",
       "      <td>cordis</td>\n",
       "      <td>219438</td>\n",
       "      <td>SOUTH WEST TOURISM LIMITED</td>\n",
       "      <td>South West Tourism</td>\n",
       "      <td>EX2 5WT</td>\n",
       "      <td>EXETER</td>\n",
       "    </tr>\n",
       "    <tr>\n",
       "      <th>2</th>\n",
       "      <td>cordis</td>\n",
       "      <td>219438</td>\n",
       "      <td>WELSH GOVERNMENT</td>\n",
       "      <td>Welsh Government</td>\n",
       "      <td>CF10 3NQ</td>\n",
       "      <td>Cardiff</td>\n",
       "    </tr>\n",
       "    <tr>\n",
       "      <th>3</th>\n",
       "      <td>cordis</td>\n",
       "      <td>226103</td>\n",
       "      <td>TERRASALUS LIMITED</td>\n",
       "      <td>TerraSalus</td>\n",
       "      <td>LE15 9EL</td>\n",
       "      <td>OAKHAM</td>\n",
       "    </tr>\n",
       "    <tr>\n",
       "      <th>4</th>\n",
       "      <td>cordis</td>\n",
       "      <td>282558</td>\n",
       "      <td>Ol PHARMA PARTNERS LTD</td>\n",
       "      <td>Pharmivation</td>\n",
       "      <td>SG4 7DP</td>\n",
       "      <td>WESTON HERTS</td>\n",
       "    </tr>\n",
       "  </tbody>\n",
       "</table>\n",
       "</div>"
      ],
      "text/plain": [
       "  dataset      id                                     name  \\\n",
       "0  cordis  323260  NUCLEAR DECOMMISSIONING AUTHORITY - NDA   \n",
       "1  cordis  219438               SOUTH WEST TOURISM LIMITED   \n",
       "2  cordis  219438                         WELSH GOVERNMENT   \n",
       "3  cordis  226103                       TERRASALUS LIMITED   \n",
       "4  cordis  282558                   Ol PHARMA PARTNERS LTD   \n",
       "\n",
       "           short_name  postcode          city  \n",
       "0                 NDA  CA24 3HU      MOOR ROW  \n",
       "1  South West Tourism   EX2 5WT        EXETER  \n",
       "2    Welsh Government  CF10 3NQ       Cardiff  \n",
       "3          TerraSalus  LE15 9EL        OAKHAM  \n",
       "4        Pharmivation   SG4 7DP  WESTON HERTS  "
      ]
     },
     "execution_count": 15,
     "metadata": {},
     "output_type": "execute_result"
    }
   ],
   "source": [
    "# concat the two dataframes\n",
    "df = pd.concat([df_cordis, df_gtr], ignore_index=True)\n",
    "df.head()"
   ]
  },
  {
   "cell_type": "code",
   "execution_count": 16,
   "metadata": {},
   "outputs": [
    {
     "name": "stdout",
     "output_type": "stream",
     "text": [
      "Unique values in column:  name\n",
      "['NUCLEAR DECOMMISSIONING AUTHORITY - NDA' 'SOUTH WEST TOURISM LIMITED'\n",
      " 'WELSH GOVERNMENT' ... 'BGR TRAINING LIMITED' 'Disyn Biotc'\n",
      " 'X-IO TECHNOLOGIES LIMITED']\n",
      "Unique values in column:  short_name\n",
      "['NDA' 'South West Tourism' 'Welsh Government' ... 'CMB.TECH UK'\n",
      " 'IPG AUTOMOTIVE UK LIMITED' 'Renewable Risk Advisers Ltd.']\n"
     ]
    },
    {
     "data": {
      "text/plain": [
       "array(['NDA', 'South West Tourism', 'Welsh Government', ...,\n",
       "       'CMB.TECH UK', 'IPG AUTOMOTIVE UK LIMITED',\n",
       "       'Renewable Risk Advisers Ltd.'], dtype=object)"
      ]
     },
     "execution_count": 16,
     "metadata": {},
     "output_type": "execute_result"
    }
   ],
   "source": [
    "def unique_values_in(df, column, print_=True):\n",
    "    if print_:\n",
    "        print(\"Unique values in column: \", column)\n",
    "        print(df[column].unique())\n",
    "    return df[column].unique()\n",
    "\n",
    "unique_values_in(df, \"name\")\n",
    "\n",
    "unique_values_in(df, \"short_name\")"
   ]
  },
  {
   "cell_type": "code",
   "execution_count": 17,
   "metadata": {},
   "outputs": [],
   "source": [
    "def create_clean_columns(column_names = [\"name\", \"short_name\", \"postcode\", \"city\"], inplace=True):\n",
    "    for column in column_names:\n",
    "        df[column + \"_clean\"] = df[column].str.lower().str.replace(r'[^\\w\\s]', '').str.replace(r'\\s+', ' ').str.strip()\n",
    "        if inplace:\n",
    "            df.drop(column, axis=1, inplace=True)\n",
    "            #rename the column\n",
    "            df.rename(columns={column + \"_clean\": column}, inplace=True)\n",
    "    return df\n",
    "\n",
    "df = create_clean_columns(column_names = [\"name\", \"short_name\", \"postcode\", \"city\"])\n",
    "df.head()\n",
    "\n",
    "def create_names_col(df):\n",
    "    # create new col \"names\" with list [name, short_name] if name or short_name is not missing\n",
    "    pass\n"
   ]
  },
  {
   "cell_type": "code",
   "execution_count": 18,
   "metadata": {},
   "outputs": [],
   "source": [
    "# save df\n",
    "df.to_csv(\"data/geolocations/orgs_names_postcodes.csv\", index=False)"
   ]
  },
  {
   "cell_type": "markdown",
   "metadata": {},
   "source": [
    "# City name postcodes\n",
    "Ignore for now...\n",
    "\n",
    "```python\n",
    "def get_postcodes_for_city(city_name, country='GB'):\n",
    "    import pgeocode # tucking it away for now. \n",
    "    # Initialize the geocoder for the specified country\n",
    "    geocoder = pgeocode.Nominatim(country)\n",
    "    \n",
    "    # Get the full dataset for the country\n",
    "    data = geocoder.get_data()\n",
    "    \n",
    "    # Convert city name to uppercase for case-insensitive matching\n",
    "    city_name = city_name.upper()\n",
    "    \n",
    "    # Filter the dataset to only include rows where the place name matches the city\n",
    "    city_data = data[data['place_name'].str.upper() == city_name]\n",
    "    \n",
    "    if city_data.empty:\n",
    "        return \"No postcodes found for the specified city.\"\n",
    "    \n",
    "    # Get unique postcodes for the city\n",
    "    postcodes = city_data['postal_code'].unique()\n",
    "    \n",
    "    return postcodes.tolist()\n",
    "\n",
    "def check_postcodes():\n",
    "    # check if postcodes matches coarse postcodes from lookup. if it does, highlight it\n",
    "    pass\n",
    "```"
   ]
  },
  {
   "cell_type": "code",
   "execution_count": null,
   "metadata": {},
   "outputs": [],
   "source": [
    "\n",
    "\n",
    "\n"
   ]
  }
 ],
 "metadata": {
  "kernelspec": {
   "display_name": "dan-env",
   "language": "python",
   "name": "python3"
  },
  "language_info": {
   "codemirror_mode": {
    "name": "ipython",
    "version": 3
   },
   "file_extension": ".py",
   "mimetype": "text/x-python",
   "name": "python",
   "nbconvert_exporter": "python",
   "pygments_lexer": "ipython3",
   "version": "3.10.14"
  }
 },
 "nbformat": 4,
 "nbformat_minor": 2
}
