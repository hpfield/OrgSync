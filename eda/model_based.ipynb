{
 "cells": [
  {
   "cell_type": "markdown",
   "metadata": {},
   "source": [
    "## TF-IDF Vectorization with Cosine Similarity\n",
    "- Use the names of the organisations to create a vector of words\n",
    "- Use the cosine similarity to find the most similar names\n",
    "\n",
    "```python\n",
    "from sklearn.feature_extraction.text import TfidfVectorizer\n",
    "from sklearn.metrics.pairwise import cosine_similarity\n",
    "```\n",
    "\n",
    "## Word Embeddigns\n",
    "- Use word embeddings to create a vector of words from pre-trained embeddings (Word2Vec, fastText, GloVe)\n",
    "- Could use gensim for this\n",
    "\n",
    "- Sentence level embeddings like bert could be used on entire company names rather than individual word embeddings. \n",
    "\n",
    "\n",
    "\"Entity Resolution\" \n",
    "\"Research on Organization Name Matching Based on Word Vector (2020)\"\n",
    "https://iopscience.iop.org/article/10.1088/1742-6596/1684/1/012085/pdf\n",
    "\n",
    "https://pages.cs.wisc.edu/~anhai/papers1/deepmatcher-sigmod18.pdf\n",
    "\n",
    "OpenCorporates algorithms for matching company names across different databases\n",
    "https://api.opencorporates.com/documentation/Reconciliation_API_documentation_v0.1.pdf\n",
    "\n",
    "[Dedupe.io ](https://dedupe.io/)python lib for resolving entities using pre-trained word embeddings\n",
    "\n",
    "Some pretrained models for company name resolution [here](https://nlp.johnsnowlabs.com/models?q=company+names)\n",
    "\n",
    "https://towardsdatascience.com/news-to-company-linking-with-bert-48a1ac9805f1\n",
    "\n",
    "Using base bert models for named entity recognition\n",
    "https://huggingface.co/dslim/bert-base-NER\n",
    "https://stackoverflow.com/questions/72986264/company-name-extraction-with-bert-base-ner-easy-way-to-know-which-words-relate\n",
    "\n",
    "Thread on this topic, someone suggested a transfomer that works well for this purpose but isn't specifically developed for it\n",
    "https://discuss.huggingface.co/t/pretrained-ner-model-for-recognizing-business-names/14628\n"
   ]
  },
  {
   "cell_type": "code",
   "execution_count": null,
   "metadata": {},
   "outputs": [],
   "source": []
  }
 ],
 "metadata": {
  "language_info": {
   "name": "python"
  }
 },
 "nbformat": 4,
 "nbformat_minor": 2
}
